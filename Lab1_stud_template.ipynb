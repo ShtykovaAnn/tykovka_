{
 "cells": [
  {
   "cell_type": "markdown",
   "metadata": {},
   "source": [
    "# Лабораторная работа 1. Теория погрешности"
   ]
  },
  {
   "cell_type": "markdown",
   "metadata": {},
   "source": [
    "Подключим библиотеку numpy с псевдонимом np. Библиотека содержит необходимые нам математические функции."
   ]
  },
  {
   "cell_type": "code",
   "execution_count": 1,
   "metadata": {},
   "outputs": [],
   "source": [
    "import numpy as np"
   ]
  },
  {
   "cell_type": "markdown",
   "metadata": {},
   "source": [
    "## Задача 1. Вычисление машинных нуля, бесконечности и эпсилон"
   ]
  },
  {
   "cell_type": "code",
   "execution_count": 10,
   "metadata": {},
   "outputs": [
    {
     "name": "stdout",
     "output_type": "stream",
     "text": [
      "Машинный ноль: 5e-324\n",
      "Машинная бесконечность: 8.98846567431158e+307\n",
      "Машинный эпсилон: 2.220446049250313e-16\n"
     ]
    }
   ],
   "source": [
    "a = 1.0\n",
    "m_inf = 1.0\n",
    "m_zero = 1.0\n",
    "m_eps = 1.0\n",
    "\n",
    "while np.isinf(a) == False:\n",
    "    m_inf = a\n",
    "    a *= 2\n",
    "    \n",
    "a = 1.0\n",
    "while a != 0:\n",
    "    m_zero = a\n",
    "    a /= 2\n",
    "\n",
    "a = 1.0\n",
    "while a + 1 > 1:\n",
    "    m_eps = a\n",
    "    a /= 2\n",
    "\n",
    "print( \"Машинный ноль:\", m_zero )\n",
    "print( \"Машинная бесконечность:\", m_inf )\n",
    "print( \"Машинный эпсилон:\", m_eps )"
   ]
  },
  {
   "cell_type": "markdown",
   "metadata": {},
   "source": [
    "## Задача 2.  Вычисление погрешности функции многих переменных в зависимости от погрешности аргументов"
   ]
  },
  {
   "cell_type": "markdown",
   "metadata": {},
   "source": [
    "Определим функцию и значения аргументов"
   ]
  },
  {
   "cell_type": "code",
   "execution_count": 11,
   "metadata": {},
   "outputs": [
    {
     "name": "stdout",
     "output_type": "stream",
     "text": [
      "f(a,b,c)= 840.367644\n"
     ]
    }
   ],
   "source": [
    "#Задайте значение аргументов\n",
    "a = 3.14\n",
    "b = 1.57\n",
    "c = 0.00921\n",
    "def f(a, b, c):\n",
    "    return a * b * b / c;\n",
    "#Определите функцию f(a,b,c)\n",
    "\n",
    "print(\"f(a,b,c)=\", np.round(f(a,b,c),6)) \n",
    "#Функция np.round округляет число до заданного количества знаков после запятой."
   ]
  },
  {
   "cell_type": "markdown",
   "metadata": {},
   "source": [
    "Определим погрешности аргументов и погрешность функции через погрешность арифметических операции."
   ]
  },
  {
   "cell_type": "code",
   "execution_count": 15,
   "metadata": {},
   "outputs": [
    {
     "name": "stdout",
     "output_type": "stream",
     "text": [
      "0.007419 6.2346\n"
     ]
    }
   ],
   "source": [
    "#Задайте для каждого аргумента абсолютную погрешность и вычислите относительную.\n",
    "Da = 0.005;    da = Da / a \n",
    "Db = 0.005;    db = Db / b\n",
    "Dc = 0.000005; dc = Dc / c\n",
    "#Вычислите относительную и абсолютную погрешность функции.\n",
    "Df1 = b * b / c * Da + 2 * a * b / c * Db - ((a * b * b) / (c * c)) * Dc\n",
    "df1 = Df1 / f(a, b, c) \n",
    "print(np.round(df1,6), np.round(Df1,6))"
   ]
  },
  {
   "cell_type": "markdown",
   "metadata": {},
   "source": [
    "Оценка погрешности по общей формуле"
   ]
  },
  {
   "cell_type": "code",
   "execution_count": 17,
   "metadata": {},
   "outputs": [
    {
     "name": "stdout",
     "output_type": "stream",
     "text": [
      "0.008505 7.147051\n"
     ]
    }
   ],
   "source": [
    "#Задайте функции df_da(a,b,c), df_db(a,b,c) и df_dc(a,b,c) вычиялющие значение частных производных функции f.\n",
    "\n",
    "#Вычислите абсолютную и относительную погрешности функции.\n",
    "df2 = da + 2*db + dc\n",
    "Df2 = f(a, b, c) * df2\n",
    "print(np.round(df2,6), np.round(Df2,6))"
   ]
  },
  {
   "cell_type": "code",
   "execution_count": null,
   "metadata": {},
   "outputs": [],
   "source": []
  }
 ],
 "metadata": {
  "kernelspec": {
   "display_name": "Python 3",
   "language": "python",
   "name": "python3"
  },
  "language_info": {
   "codemirror_mode": {
    "name": "ipython",
    "version": 3
   },
   "file_extension": ".py",
   "mimetype": "text/x-python",
   "name": "python",
   "nbconvert_exporter": "python",
   "pygments_lexer": "ipython3",
   "version": "3.7.4"
  }
 },
 "nbformat": 4,
 "nbformat_minor": 2
}
